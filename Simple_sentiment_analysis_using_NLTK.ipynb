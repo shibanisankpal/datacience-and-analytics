{
  "nbformat": 4,
  "nbformat_minor": 0,
  "metadata": {
    "colab": {
      "provenance": [],
      "authorship_tag": "ABX9TyOAIWvLDPt5YniuuHGLOa1Z",
      "include_colab_link": true
    },
    "kernelspec": {
      "name": "python3",
      "display_name": "Python 3"
    },
    "language_info": {
      "name": "python"
    }
  },
  "cells": [
    {
      "cell_type": "markdown",
      "metadata": {
        "id": "view-in-github",
        "colab_type": "text"
      },
      "source": [
        "<a href=\"https://colab.research.google.com/github/shibanisankpal/datascience-and-analytics/blob/main/Simple_sentiment_analysis_using_NLTK.ipynb\" target=\"_parent\"><img src=\"https://colab.research.google.com/assets/colab-badge.svg\" alt=\"Open In Colab\"/></a>"
      ]
    },
    {
      "cell_type": "code",
      "execution_count": 2,
      "metadata": {
        "colab": {
          "base_uri": "https://localhost:8080/"
        },
        "id": "_jAVCupyQEu9",
        "outputId": "06cbae36-b807-48f6-f45c-4bd26d19ca42"
      },
      "outputs": [
        {
          "output_type": "stream",
          "name": "stderr",
          "text": [
            "[nltk_data] Downloading package vader_lexicon to /root/nltk_data...\n"
          ]
        },
        {
          "output_type": "stream",
          "name": "stdout",
          "text": [
            "Review: This product is amazing! It exceeded my expectations and I would definitely recommend it to others.\n",
            "Sentiment Scores: {'neg': 0.0, 'neu': 0.564, 'pos': 0.436, 'compound': 0.8516}\n",
            "Review: I was disappointed with this product. It didn't work as well as I had hoped and I ended up returning it.\n",
            "Sentiment Scores: {'neg': 0.218, 'neu': 0.666, 'pos': 0.115, 'compound': -0.3213}\n",
            "Review: I love this company's customer service. They were so helpful and went above and beyond to assist me.\n",
            "Sentiment Scores: {'neg': 0.0, 'neu': 0.657, 'pos': 0.343, 'compound': 0.8323}\n",
            "Review: The shipping was delayed and the product arrived damaged. I was very frustrated with this purchase.\n",
            "Sentiment Scores: {'neg': 0.414, 'neu': 0.586, 'pos': 0.0, 'compound': -0.8173}\n",
            "Review: This product is just okay. It works fine, but nothing special. I probably wouldn't buy it again.\n",
            "Sentiment Scores: {'neg': 0.154, 'neu': 0.694, 'pos': 0.152, 'compound': -0.2586}\n"
          ]
        }
      ],
      "source": [
        "import nltk\n",
        "from nltk.sentiment import SentimentIntensityAnalyzer\n",
        "\n",
        "nltk.download('vader_lexicon')  # Downloading the lexicon used by SentimentIntensityAnalyzer\n",
        "\n",
        "# Sample customer reviews\n",
        "reviews = [\n",
        "    \"This product is amazing! It exceeded my expectations and I would definitely recommend it to others.\",\n",
        "    \"I was disappointed with this product. It didn't work as well as I had hoped and I ended up returning it.\",\n",
        "    \"I love this company's customer service. They were so helpful and went above and beyond to assist me.\",\n",
        "    \"The shipping was delayed and the product arrived damaged. I was very frustrated with this purchase.\",\n",
        "    \"This product is just okay. It works fine, but nothing special. I probably wouldn't buy it again.\",\n",
        "]\n",
        "\n",
        "# Initializing the SentimentIntensityAnalyzer\n",
        "sid = SentimentIntensityAnalyzer()\n",
        "\n",
        "# Analyzing the sentiment of each review\n",
        "for review in reviews:\n",
        "    scores = sid.polarity_scores(review)\n",
        "    print(f\"Review: {review}\")\n",
        "    print(f\"Sentiment Scores: {scores}\")\n"
      ]
    }
  ]
}