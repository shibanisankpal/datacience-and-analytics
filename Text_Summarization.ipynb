{
  "nbformat": 4,
  "nbformat_minor": 0,
  "metadata": {
    "colab": {
      "provenance": [],
      "authorship_tag": "ABX9TyOe6bhGwaw1kJPnNbdqGaii",
      "include_colab_link": true
    },
    "kernelspec": {
      "name": "python3",
      "display_name": "Python 3"
    },
    "language_info": {
      "name": "python"
    }
  },
  "cells": [
    {
      "cell_type": "markdown",
      "metadata": {
        "id": "view-in-github",
        "colab_type": "text"
      },
      "source": [
        "<a href=\"https://colab.research.google.com/github/shibanisankpal/datascience-and-analytics/blob/main/Text_Summarization.ipynb\" target=\"_parent\"><img src=\"https://colab.research.google.com/assets/colab-badge.svg\" alt=\"Open In Colab\"/></a>"
      ]
    },
    {
      "cell_type": "code",
      "execution_count": 8,
      "metadata": {
        "colab": {
          "base_uri": "https://localhost:8080/"
        },
        "id": "kJlgwze1R7TG",
        "outputId": "f32194b0-ddfb-417f-a4d3-7a83cccecb74"
      },
      "outputs": [
        {
          "output_type": "stream",
          "name": "stderr",
          "text": [
            "[nltk_data] Downloading package punkt to /root/nltk_data...\n",
            "[nltk_data]   Package punkt is already up-to-date!\n"
          ]
        },
        {
          "output_type": "execute_result",
          "data": {
            "text/plain": [
              "True"
            ]
          },
          "metadata": {},
          "execution_count": 8
        }
      ],
      "source": [
        "# Import the necessary libraries\n",
        "\n",
        "from sumy.parsers.plaintext import PlaintextParser\n",
        "from sumy.nlp.tokenizers import Tokenizer\n",
        "from sumy.summarizers.lex_rank import LexRankSummarizer\n",
        "import nltk\n",
        "nltk.download('punkt')\n",
        "\n",
        "\n"
      ]
    },
    {
      "cell_type": "code",
      "source": [
        "# Load the text to be summarized\n",
        "text = \"Artificial intelligence (AI) is a rapidly growing field that has the potential to transform many industries, from healthcare to finance to transportation. AI involves the development of intelligent algorithms and computer systems that can perform tasks that normally require human intelligence, such as visual perception, speech recognition, decision-making, and language translation.One of the key challenges in AI is developing algorithms that can learn and adapt to new situations. Machine learning is a subset of AI that focuses on developing algorithms that can automatically improve their performance through experience. Deep learning is a type of machine learning that involves training artificial neural networks with large amounts of data to perform complex tasks, such as image recognition and natural language processing.While AI has the potential to revolutionize many industries, there are also concerns about the impact it may have on jobs and society as a whole. Some experts predict that AI could lead to significant job displacement, particularly in industries that rely on routine tasks. There are also concerns about the ethical implications of AI, such as the potential for bias and discrimination in decision-making algorithms.Despite these concerns, the development of AI continues to accelerate, with major tech companies such as Google, Microsoft, and Amazon investing heavily in the field. As AI technology continues to advance, it is likely to have a significant impact on many aspects of our lives, from healthcare to transportation to entertainment.\"\n",
        "# Create a parser and tokenize the text\n",
        "parser = PlaintextParser.from_string(text, Tokenizer(\"english\"))\n",
        "\n",
        "# Create a LexRank summarizer and generate a summary\n",
        "summarizer = LexRankSummarizer()\n",
        "summary = summarizer(parser.document, sentences_count=3)\n",
        "\n",
        "# Print the summary\n",
        "for sentence in summary:\n",
        "    print(sentence)\n"
      ],
      "metadata": {
        "colab": {
          "base_uri": "https://localhost:8080/"
        },
        "id": "VQsQraJMTiNs",
        "outputId": "71afcaf9-16ed-4aa0-9f20-48e7166281b8"
      },
      "execution_count": 13,
      "outputs": [
        {
          "output_type": "stream",
          "name": "stdout",
          "text": [
            "AI involves the development of intelligent algorithms and computer systems that can perform tasks that normally require human intelligence, such as visual perception, speech recognition, decision-making, and language translation.One of the key challenges in AI is developing algorithms that can learn and adapt to new situations.\n",
            "Deep learning is a type of machine learning that involves training artificial neural networks with large amounts of data to perform complex tasks, such as image recognition and natural language processing.While AI has the potential to revolutionize many industries, there are also concerns about the impact it may have on jobs and society as a whole.\n",
            "Some experts predict that AI could lead to significant job displacement, particularly in industries that rely on routine tasks.\n"
          ]
        }
      ]
    }
  ]
}